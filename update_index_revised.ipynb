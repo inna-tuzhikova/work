{
 "cells": [
  {
   "cell_type": "code",
   "execution_count": 1,
   "metadata": {},
   "outputs": [],
   "source": [
    "import pickle\n",
    "from os import listdir\n",
    "from os.path import join, isfile, splitext\n",
    "\n",
    "from PIL import Image\n",
    "from datetime import datetime\n"
   ]
  },
  {
   "cell_type": "code",
   "execution_count": 2,
   "metadata": {},
   "outputs": [],
   "source": [
    "folder = 'test n'\n",
    "image_formats = ['.jpg', '.png', '.bmp']"
   ]
  },
  {
   "cell_type": "code",
   "execution_count": 3,
   "metadata": {},
   "outputs": [],
   "source": [
    "def upd_ind(annotation):\n",
    "    # \"folder + annotation\" -> Привыкай к os.path.join() или библиотеке pathlib\n",
    "    # это же замечание относится и к get_image_info (даже если функцию не ты писала:)\n",
    "    # with open(folder + annotation, 'rb') as p_file:\n",
    "    with open(join(folder, annotation), 'rb') as p_file:\n",
    "        data = pickle.load(p_file)\n",
    "#       Не нужно дальше выполнять остальной код в контексте открытого файла\n",
    "    old_ind = [img['file_name'] for img in data['images']]\n",
    "        \n",
    "        # У os.walk рекурсивная природа, нам не нужны картинки в подпапках, \n",
    "        # а только в текущей директории с annotation.pickle\n",
    "        # Лучше подойдет os.litdir\n",
    "#     new_ind = [file for _, _, file in os.walk('test')][0]\n",
    "    new_ind = list(filter(lambda x: isfile(join(folder, x)) & # Только файлы\n",
    "                          (splitext(join(folder, x))[1] in image_formats), # Только картинки\n",
    "                          # Даже если 'image_formats = ['.jpg', '.png', '.bmp']' не спасёт,\n",
    "                          # PIL отфильтрует 'invalid image' и левые файлы\n",
    "                          listdir(folder)))\n",
    "    \n",
    "    new_img = set(new_ind) - set(old_ind)\n",
    "        \n",
    "        # Здесь лучше пройтись и отфильтровать все \"невалидные\" картинки и файлы \"не картинки\"\n",
    "        # В папках бывает всякий мусор\n",
    "#     new_img.remove('annotations.pickle')\n",
    "        \n",
    "    verifiers = set()\n",
    "    for img in data['images']:\n",
    "        verifiers.update(list(img['verified'].keys()))\n",
    "        \n",
    "    for img in new_img:\n",
    "        image_info = get_image_info(img, len(data['images']), verifiers)\n",
    "        \n",
    "        if image_info:\n",
    "            data['images'].append(image_info)\n",
    "            \n",
    "            # get_image_info может вернуть None\n",
    "            # get_image_info(img,\n",
    "            #               len(data['images']),\n",
    "            #               verifiers))            \n",
    "                \n",
    "        \n",
    "    \n",
    "    with open(join(folder, annotation), 'wb') as p_file:\n",
    "        pickle.dump(data, p_file)"
   ]
  },
  {
   "cell_type": "code",
   "execution_count": 4,
   "metadata": {},
   "outputs": [],
   "source": [
    "def get_image_info(image_filename, image_id, verifiers):\n",
    "        try:\n",
    "            image = Image.open(join(folder, image_filename))\n",
    "        except Exception as e:\n",
    "            print('Error: {}\\nSkipping invalid image: {}'.format(str(e), image_filename))\n",
    "            return None\n",
    "        \n",
    "        try:\n",
    "            date_captured = image._getexif()[36867]\n",
    "        except:\n",
    "            date_captured = str(datetime.min)\n",
    "\n",
    "        return {\n",
    "            'id': image_id,\n",
    "            'file_name': image_filename,\n",
    "            'width': image.width,\n",
    "            'height': image.height,\n",
    "            'date_captured': date_captured,\n",
    "            'verified': {v: False for v in verifiers}\n",
    "        }"
   ]
  },
  {
   "cell_type": "code",
   "execution_count": 5,
   "metadata": {},
   "outputs": [],
   "source": [
    "with open(join(folder, 'annotations.pickle'), 'rb') as p_f:\n",
    "    data = pickle.load(p_f)    "
   ]
  },
  {
   "cell_type": "code",
   "execution_count": 6,
   "metadata": {},
   "outputs": [
    {
     "data": {
      "text/plain": [
       "[{'id': 0,\n",
       "  'file_name': '000000000908.jpg',\n",
       "  'width': 612,\n",
       "  'height': 612,\n",
       "  'date_captured': '0001-01-01 00:00:00',\n",
       "  'verified': {'admin': False, 'inna': False}},\n",
       " {'id': 1,\n",
       "  'file_name': '000000000982.jpg',\n",
       "  'width': 480,\n",
       "  'height': 640,\n",
       "  'date_captured': '0001-01-01 00:00:00',\n",
       "  'verified': {'admin': False, 'inna': True}},\n",
       " {'id': 2,\n",
       "  'file_name': '000000001308.jpg',\n",
       "  'width': 640,\n",
       "  'height': 426,\n",
       "  'date_captured': '0001-01-01 00:00:00',\n",
       "  'verified': {'admin': False, 'inna': False}},\n",
       " {'id': 3,\n",
       "  'file_name': '000000003109.jpg',\n",
       "  'width': 480,\n",
       "  'height': 640,\n",
       "  'date_captured': '0001-01-01 00:00:00',\n",
       "  'verified': {'admin': False}},\n",
       " {'id': 4,\n",
       "  'file_name': '000000003149.jpg',\n",
       "  'width': 464,\n",
       "  'height': 640,\n",
       "  'date_captured': '0001-01-01 00:00:00',\n",
       "  'verified': {'admin': False}}]"
      ]
     },
     "execution_count": 6,
     "metadata": {},
     "output_type": "execute_result"
    }
   ],
   "source": [
    "data['images']"
   ]
  },
  {
   "cell_type": "code",
   "execution_count": 7,
   "metadata": {},
   "outputs": [],
   "source": [
    "upd_ind('annotations.pickle')"
   ]
  },
  {
   "cell_type": "code",
   "execution_count": 8,
   "metadata": {},
   "outputs": [],
   "source": [
    "with open(join(folder, 'annotations.pickle'), 'rb') as p_f:\n",
    "    data = pickle.load(p_f)    "
   ]
  },
  {
   "cell_type": "code",
   "execution_count": 9,
   "metadata": {},
   "outputs": [
    {
     "data": {
      "text/plain": [
       "[{'id': 0,\n",
       "  'file_name': '000000000908.jpg',\n",
       "  'width': 612,\n",
       "  'height': 612,\n",
       "  'date_captured': '0001-01-01 00:00:00',\n",
       "  'verified': {'admin': False, 'inna': False}},\n",
       " {'id': 1,\n",
       "  'file_name': '000000000982.jpg',\n",
       "  'width': 480,\n",
       "  'height': 640,\n",
       "  'date_captured': '0001-01-01 00:00:00',\n",
       "  'verified': {'admin': False, 'inna': True}},\n",
       " {'id': 2,\n",
       "  'file_name': '000000001308.jpg',\n",
       "  'width': 640,\n",
       "  'height': 426,\n",
       "  'date_captured': '0001-01-01 00:00:00',\n",
       "  'verified': {'admin': False, 'inna': False}},\n",
       " {'id': 3,\n",
       "  'file_name': '000000003109.jpg',\n",
       "  'width': 480,\n",
       "  'height': 640,\n",
       "  'date_captured': '0001-01-01 00:00:00',\n",
       "  'verified': {'admin': False}},\n",
       " {'id': 4,\n",
       "  'file_name': '000000003149.jpg',\n",
       "  'width': 464,\n",
       "  'height': 640,\n",
       "  'date_captured': '0001-01-01 00:00:00',\n",
       "  'verified': {'admin': False}},\n",
       " {'id': 5,\n",
       "  'file_name': '000000000772.jpg',\n",
       "  'width': 640,\n",
       "  'height': 424,\n",
       "  'date_captured': '0001-01-01 00:00:00',\n",
       "  'verified': {'admin': False, 'inna': False}},\n",
       " {'id': 6,\n",
       "  'file_name': '000000001771.jpg',\n",
       "  'width': 640,\n",
       "  'height': 427,\n",
       "  'date_captured': '0001-01-01 00:00:00',\n",
       "  'verified': {'admin': False, 'inna': False}},\n",
       " {'id': 7,\n",
       "  'file_name': '000000000909.jpg',\n",
       "  'width': 327,\n",
       "  'height': 500,\n",
       "  'date_captured': '0001-01-01 00:00:00',\n",
       "  'verified': {'admin': False, 'inna': False}},\n",
       " {'id': 8,\n",
       "  'file_name': '000000000531.jpg',\n",
       "  'width': 640,\n",
       "  'height': 480,\n",
       "  'date_captured': '0001-01-01 00:00:00',\n",
       "  'verified': {'admin': False, 'inna': False}},\n",
       " {'id': 9,\n",
       "  'file_name': '000000001401.jpg',\n",
       "  'width': 354,\n",
       "  'height': 500,\n",
       "  'date_captured': '0001-01-01 00:00:00',\n",
       "  'verified': {'admin': False, 'inna': False}}]"
      ]
     },
     "execution_count": 9,
     "metadata": {},
     "output_type": "execute_result"
    }
   ],
   "source": [
    "data['images']"
   ]
  }
 ],
 "metadata": {
  "kernelspec": {
   "display_name": "Python 3",
   "language": "python",
   "name": "python3"
  },
  "language_info": {
   "codemirror_mode": {
    "name": "ipython",
    "version": 3
   },
   "file_extension": ".py",
   "mimetype": "text/x-python",
   "name": "python",
   "nbconvert_exporter": "python",
   "pygments_lexer": "ipython3",
   "version": "3.6.5"
  }
 },
 "nbformat": 4,
 "nbformat_minor": 2
}
