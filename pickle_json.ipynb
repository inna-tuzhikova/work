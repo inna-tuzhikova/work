{
 "cells": [
  {
   "cell_type": "code",
   "execution_count": 1,
   "metadata": {},
   "outputs": [],
   "source": [
    "import json\n",
    "import pickle"
   ]
  },
  {
   "cell_type": "code",
   "execution_count": 2,
   "metadata": {},
   "outputs": [],
   "source": [
    "def pickle_to_json(f_in, f_out, indent=4):\n",
    "    try:\n",
    "        with open(f_in, 'rb') as p_file:\n",
    "            data = pickle.load(p_file)\n",
    "        with open(f_out, 'w') as j_file:\n",
    "            json.dump(data, j_file, indent=indent)\n",
    "    except IOError as e:\n",
    "        print('{}: {}'.format(e.strerror, e.filename))"
   ]
  },
  {
   "cell_type": "code",
   "execution_count": 3,
   "metadata": {},
   "outputs": [],
   "source": [
    "def json_to_pickle(f_in, f_out):\n",
    "    try:\n",
    "        with open(f_in, 'r') as j_file:\n",
    "            data = json.load(j_file)\n",
    "        with open(f_out, 'wb') as p_file:\n",
    "            pickle.dump(data, p_file)\n",
    "    except IOError as e:\n",
    "        print('{}: {}'.format(e.strerror, e.filename))"
   ]
  },
  {
   "cell_type": "code",
   "execution_count": 4,
   "metadata": {},
   "outputs": [],
   "source": [
    "pickle_to_json('annotations.pickle', 'annotations.json')"
   ]
  },
  {
   "cell_type": "code",
   "execution_count": 5,
   "metadata": {},
   "outputs": [],
   "source": [
    "json_to_pickle('annotations.json', 'annotations_.pickle')"
   ]
  },
  {
   "cell_type": "code",
   "execution_count": 6,
   "metadata": {},
   "outputs": [
    {
     "name": "stdout",
     "output_type": "stream",
     "text": [
      "No such file or directory: annotations.ptickle\n"
     ]
    }
   ],
   "source": [
    "pickle_to_json('annotations.ptickle', 'annotations.json')"
   ]
  }
 ],
 "metadata": {
  "kernelspec": {
   "display_name": "Python 3",
   "language": "python",
   "name": "python3"
  },
  "language_info": {
   "codemirror_mode": {
    "name": "ipython",
    "version": 3
   },
   "file_extension": ".py",
   "mimetype": "text/x-python",
   "name": "python",
   "nbconvert_exporter": "python",
   "pygments_lexer": "ipython3",
   "version": "3.6.5"
  }
 },
 "nbformat": 4,
 "nbformat_minor": 2
}
